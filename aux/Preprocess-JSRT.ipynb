{
 "cells": [
  {
   "cell_type": "markdown",
   "id": "c4c8928a-a784-4f1b-997e-6bd282624310",
   "metadata": {},
   "source": [
    "# Preprocessing code for JSRT:\n",
    "\n",
    "JSRT: http://db.jsrt.or.jp/eng.php"
   ]
  },
  {
   "cell_type": "code",
   "execution_count": null,
   "id": "ac46b7a2",
   "metadata": {},
   "outputs": [],
   "source": [
    "import cv2\n",
    "import numpy as np\n",
    "import os\n",
    "\n",
    "def preprocess(folderpath, flist):\n",
    "    try:\n",
    "        os.mkdir(folderpath)\n",
    "    except:\n",
    "        pass\n",
    "    \n",
    "    for f in flist:        \n",
    "        w, h = 2048, 2048 \n",
    "\n",
    "        with open(f, 'rb') as path: \n",
    "            dtype = np.dtype('>u2')\n",
    "            img = np.fromfile(path, dtype=dtype).reshape((h,w)) \n",
    "\n",
    "        img = 1 - img.astype('float')  / 4096\n",
    "        img = cv2.resize(img, (1024,1024))\n",
    "        img = img*255\n",
    "       \n",
    "        p = os.path.join(folderpath, f.replace('.IMG','.png'))\n",
    "        cv2.imwrite(p, img.astype('uint8'))"
   ]
  },
  {
   "cell_type": "code",
   "execution_count": null,
   "id": "a891ee08",
   "metadata": {},
   "outputs": [],
   "source": [
    "import pathlib\n",
    "import re\n",
    "\n",
    "def natural_key(string_):\n",
    "    \"\"\"See http://www.codinghorror.com/blog/archives/001018.html\"\"\"\n",
    "    return [int(s) if s.isdigit() else s for s in re.split(r'(\\d+)', string_)]\n",
    "\n",
    "img_path = \"All247images\"\n",
    "\n",
    "data_root = pathlib.Path(img_path)\n",
    "all_files = list(data_root.glob('*.IMG'))\n",
    "all_files = [str(path) for path in all_files]\n",
    "all_files.sort(key = natural_key)\n",
    "\n",
    "save_path = \"Images/\"\n",
    "preprocess(save_path, all_files)"
   ]
  },
  {
   "cell_type": "code",
   "execution_count": null,
   "id": "e72cffbb-94ec-44fb-84b0-e48a848c594d",
   "metadata": {},
   "outputs": [],
   "source": []
  }
 ],
 "metadata": {
  "kernelspec": {
   "display_name": "Torch",
   "language": "python",
   "name": "torch"
  },
  "language_info": {
   "codemirror_mode": {
    "name": "ipython",
    "version": 3
   },
   "file_extension": ".py",
   "mimetype": "text/x-python",
   "name": "python",
   "nbconvert_exporter": "python",
   "pygments_lexer": "ipython3",
   "version": "3.9.7"
  }
 },
 "nbformat": 4,
 "nbformat_minor": 5
}
