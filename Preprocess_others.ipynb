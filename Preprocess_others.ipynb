{
 "cells": [
  {
   "cell_type": "markdown",
   "id": "eccdce7c-62f1-4f39-834c-fcde1bdfdee9",
   "metadata": {},
   "source": [
    "# Preprocessing code for Montgomery, Shenzhen and Padchest:\n",
    "\n",
    "Shenzhen and Montgomery: https://lhncbc.nlm.nih.gov/LHC-publications/pubs/TuberculosisChestXrayImageDataSets.html\n",
    "\n",
    "Alternative link: https://openi.nlm.nih.gov/faq#faq-tb-coll\n",
    "\n",
    "Padchest: https://bimcv.cipf.es/bimcv-projects/padchest/ (Download sample 2)"
   ]
  },
  {
   "cell_type": "code",
   "execution_count": null,
   "id": "39405a61",
   "metadata": {},
   "outputs": [],
   "source": [
    "import cv2 \n",
    "import pathlib\n",
    "import re\n",
    "import matplotlib.pyplot as plt\n",
    "import numpy as np\n",
    "\n",
    "def natural_key(string_):\n",
    "    \"\"\"See http://www.codinghorror.com/blog/archives/001018.html\"\"\"\n",
    "    return [int(s) if s.isdigit() else s for s in re.split(r'(\\d+)', string_)]"
   ]
  },
  {
   "cell_type": "code",
   "execution_count": null,
   "id": "83f732f8",
   "metadata": {},
   "outputs": [],
   "source": [
    "img_path = \"Montgomery/CXR_png/\"\n",
    "#img_path = \"Shenzhen/CXR_png/\"\n",
    "#img_path = \"Padchest/Images/\"\n",
    "\n",
    "data_root = pathlib.Path(img_path)\n",
    "all_files = list(data_root.glob('*.png'))\n",
    "all_files = [str(path) for path in all_files]\n",
    "all_files.sort(key = natural_key)\n",
    "\n",
    "save_img = \"Images/\""
   ]
  },
  {
   "cell_type": "code",
   "execution_count": null,
   "id": "5f08689a",
   "metadata": {},
   "outputs": [],
   "source": [
    "i = 1\n",
    "\n",
    "for file in all_files:\n",
    "    print('File', i, 'of', len(all_files))\n",
    "\n",
    "    img = cv2.imread(file, 0)\n",
    "\n",
    "    gray = 255*(img > 1) # To invert the text to white\n",
    "    coords = cv2.findNonZero(gray) # Find all non-zero points (text)\n",
    "\n",
    "    x, y, w, h = cv2.boundingRect(coords) # Find minimum spanning bounding box\n",
    "    cropimg = img[y:y+h, x:x+w] # Crop the image - note we do this on the original image\n",
    "\n",
    "    shape = cropimg.shape\n",
    "\n",
    "    if shape[0] < shape[1]:\n",
    "        pad = (shape[1] - shape[0])    \n",
    "        \n",
    "        if pad % 2 == 1:\n",
    "            pad = pad // 2\n",
    "            pad_y = [pad, pad+1]\n",
    "        else:\n",
    "            pad = pad // 2\n",
    "            pad_y = [pad, pad]\n",
    "            \n",
    "        pad_x = [0, 0]\n",
    "    elif shape[1] < shape[0]:\n",
    "        pad = (shape[0] - shape[1]) \n",
    "        \n",
    "        if pad % 2 == 1:\n",
    "            pad = pad // 2\n",
    "            pad_x = [pad, pad+1]\n",
    "        else:\n",
    "            pad = pad // 2\n",
    "            pad_x = [pad, pad]\n",
    "            \n",
    "        pad_y = [0, 0]\n",
    "\n",
    "    img = np.pad(cropimg, pad_width = [pad_y, pad_x])    \n",
    "\n",
    "    if img.shape[0] != img.shape[1]:\n",
    "        print('Error padding image')\n",
    "        break\n",
    "\n",
    "    img_ = cv2.resize(img, [1024, 1024])\n",
    "    \n",
    "    cv2.imwrite(file.replace(img_path, save_img), img_)\n",
    "\n",
    "    i = i+1"
   ]
  }
 ],
 "metadata": {
  "kernelspec": {
   "display_name": "Torch",
   "language": "python",
   "name": "torch"
  },
  "language_info": {
   "codemirror_mode": {
    "name": "ipython",
    "version": 3
   },
   "file_extension": ".py",
   "mimetype": "text/x-python",
   "name": "python",
   "nbconvert_exporter": "python",
   "pygments_lexer": "ipython3",
   "version": "3.9.7"
  }
 },
 "nbformat": 4,
 "nbformat_minor": 5
}
